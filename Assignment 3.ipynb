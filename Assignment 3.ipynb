{
 "cells": [
  {
   "cell_type": "code",
   "execution_count": 1,
   "id": "9c49d565-3f57-4f71-a4ec-b15e3401f0eb",
   "metadata": {},
   "outputs": [
    {
     "data": {
      "text/html": [
       "<div>\n",
       "<style scoped>\n",
       "    .dataframe tbody tr th:only-of-type {\n",
       "        vertical-align: middle;\n",
       "    }\n",
       "\n",
       "    .dataframe tbody tr th {\n",
       "        vertical-align: top;\n",
       "    }\n",
       "\n",
       "    .dataframe thead th {\n",
       "        text-align: right;\n",
       "    }\n",
       "</style>\n",
       "<table border=\"1\" class=\"dataframe\">\n",
       "  <thead>\n",
       "    <tr style=\"text-align: right;\">\n",
       "      <th></th>\n",
       "      <th>Age</th>\n",
       "      <th>Income</th>\n",
       "    </tr>\n",
       "  </thead>\n",
       "  <tbody>\n",
       "    <tr>\n",
       "      <th>0</th>\n",
       "      <td>Young</td>\n",
       "      <td>25000</td>\n",
       "    </tr>\n",
       "    <tr>\n",
       "      <th>1</th>\n",
       "      <td>Middle Age</td>\n",
       "      <td>54000</td>\n",
       "    </tr>\n",
       "    <tr>\n",
       "      <th>2</th>\n",
       "      <td>Old</td>\n",
       "      <td>60000</td>\n",
       "    </tr>\n",
       "    <tr>\n",
       "      <th>3</th>\n",
       "      <td>Young</td>\n",
       "      <td>15000</td>\n",
       "    </tr>\n",
       "    <tr>\n",
       "      <th>4</th>\n",
       "      <td>Young</td>\n",
       "      <td>45000</td>\n",
       "    </tr>\n",
       "  </tbody>\n",
       "</table>\n",
       "</div>"
      ],
      "text/plain": [
       "          Age  Income\n",
       "0       Young   25000\n",
       "1  Middle Age   54000\n",
       "2         Old   60000\n",
       "3       Young   15000\n",
       "4       Young   45000"
      ]
     },
     "execution_count": 1,
     "metadata": {},
     "output_type": "execute_result"
    }
   ],
   "source": [
    "import pandas as pd\n",
    "import numpy as np\n",
    "df = pd.read_excel(\"Age-Income-Dataset.xlsx\")\n",
    "df.head()"
   ]
  },
  {
   "cell_type": "code",
   "execution_count": 2,
   "id": "83eee4ea-926b-4b4f-aa32-d31574aa68ca",
   "metadata": {},
   "outputs": [
    {
     "data": {
      "text/plain": [
       "Age       0\n",
       "Income    0\n",
       "dtype: int64"
      ]
     },
     "execution_count": 2,
     "metadata": {},
     "output_type": "execute_result"
    }
   ],
   "source": [
    "df.isnull().sum()"
   ]
  },
  {
   "cell_type": "code",
   "execution_count": 3,
   "id": "ab81a79b-5712-4165-bfd6-ab54c89f1b29",
   "metadata": {},
   "outputs": [
    {
     "data": {
      "text/plain": [
       "array(['Young', 'Middle Age', 'Old'], dtype=object)"
      ]
     },
     "execution_count": 3,
     "metadata": {},
     "output_type": "execute_result"
    }
   ],
   "source": [
    "df['Age'].unique()"
   ]
  },
  {
   "cell_type": "code",
   "execution_count": 4,
   "id": "7073a268-ca88-485a-9281-97e88db31b96",
   "metadata": {},
   "outputs": [
    {
     "name": "stdout",
     "output_type": "stream",
     "text": [
      "50966.0\n"
     ]
    }
   ],
   "source": [
    " # Calcualting mean without using libraries\n",
    "mean_score = sum(df['Income'])/len(df['Income'])\n",
    "print(mean_score)"
   ]
  },
  {
   "cell_type": "code",
   "execution_count": 5,
   "id": "7abc9622-1967-4337-8888-93e03a3f6930",
   "metadata": {},
   "outputs": [
    {
     "name": "stdout",
     "output_type": "stream",
     "text": [
      "50966.0\n"
     ]
    }
   ],
   "source": [
    " #Using Pandas lib mean function\n",
    "mean_score = df['Income'].mean()\n",
    "print(mean_score)"
   ]
  },
  {
   "cell_type": "code",
   "execution_count": 6,
   "id": "39186f4b-e073-49e4-bdae-fef7aad87a0d",
   "metadata": {},
   "outputs": [
    {
     "name": "stdout",
     "output_type": "stream",
     "text": [
      "46850.0\n"
     ]
    }
   ],
   "source": [
    "# Calculating Median without using lib\n",
    "n = len(df['Income'])\n",
    "if n % 2:\n",
    "    income_median = sorted(df['Income'])[round(0.5*(n-1))]\n",
    "else:\n",
    "    x_ord, index = sorted(df['Income']), round(0.5 * n)\n",
    "income_median = 0.5 * (x_ord[index-1] + x_ord[index])\n",
    "print(income_median)\n"
   ]
  },
  {
   "cell_type": "code",
   "execution_count": 7,
   "id": "5db51d77-72e6-4055-a928-fb48a7fb6265",
   "metadata": {},
   "outputs": [
    {
     "data": {
      "text/plain": [
       "46850.0"
      ]
     },
     "execution_count": 7,
     "metadata": {},
     "output_type": "execute_result"
    }
   ],
   "source": [
    "# Using Pandas function\n",
    "df['Income'].median()"
   ]
  },
  {
   "cell_type": "code",
   "execution_count": 8,
   "id": "15249e83-58ee-4e7d-a1c2-ecb6fbe5e7a5",
   "metadata": {},
   "outputs": [
    {
     "data": {
      "text/plain": [
       "0    23000\n",
       "1    25600\n",
       "2    45000\n",
       "3    65400\n",
       "4    80000\n",
       "Name: Income, dtype: int64"
      ]
     },
     "execution_count": 8,
     "metadata": {},
     "output_type": "execute_result"
    }
   ],
   "source": [
    "# Finding the mode using function\n",
    "df['Income'].mode()"
   ]
  },
  {
   "cell_type": "code",
   "execution_count": 9,
   "id": "96e666bc-2595-46e1-8f9d-31087e4fbf2c",
   "metadata": {},
   "outputs": [
    {
     "name": "stdout",
     "output_type": "stream",
     "text": [
      "            count          mean           std      min      25%      50%   \n",
      "Age                                                                        \n",
      "Middle Age   15.0  52453.333333  20497.800114  25600.0  36900.0  53200.0  \\\n",
      "Old          19.0  53942.105263  20868.165968  24500.0  38700.0  45300.0   \n",
      "Young        16.0  46037.500000  22356.859499  15000.0  28750.0  41500.0   \n",
      "\n",
      "                75%      max  \n",
      "Age                           \n",
      "Middle Age  61200.0  93000.0  \n",
      "Old         71400.0  89700.0  \n",
      "Young       65850.0  87000.0  \n"
     ]
    }
   ],
   "source": [
    "income_age = df.groupby('Age')['Income'].describe()\n",
    "print(income_age)"
   ]
  },
  {
   "cell_type": "code",
   "execution_count": 10,
   "id": "3c28d296-13c3-438d-8b12-70281d6d0cb0",
   "metadata": {},
   "outputs": [
    {
     "name": "stdout",
     "output_type": "stream",
     "text": [
      "\n",
      "Numeric Values for Categorical Variable 'Age':\n",
      "[25, 45, 65, 25, 25, 25, 25, 25, 45, 25, 25, 65, 25, 65, 65, 65, 45, 45, 65, 45, 65, 65, 65, 65, 45, 45, 25, 25, 25, 25, 45, 45, 65, 45, 45, 65, 65, 65, 25, 65, 45, 65, 25, 45, 65, 65, 45, 65, 25, 45]\n"
     ]
    }
   ],
   "source": [
    "age_values = {'Young': 25, 'Middle Age': 45, 'Old': 65}\n",
    "# Create a list with numeric values for each response \n",
    "numeric_age = [age_values[age] for age in df['Age']]\n",
    "print(\"\\nNumeric Values for Categorical Variable 'Age':\")\n",
    "print(numeric_age)"
   ]
  },
  {
   "cell_type": "code",
   "execution_count": 11,
   "id": "fdb31c6f-7a7a-4c2c-8437-a49f99072feb",
   "metadata": {},
   "outputs": [
    {
     "data": {
      "text/html": [
       "<div>\n",
       "<style scoped>\n",
       "    .dataframe tbody tr th:only-of-type {\n",
       "        vertical-align: middle;\n",
       "    }\n",
       "\n",
       "    .dataframe tbody tr th {\n",
       "        vertical-align: top;\n",
       "    }\n",
       "\n",
       "    .dataframe thead th {\n",
       "        text-align: right;\n",
       "    }\n",
       "</style>\n",
       "<table border=\"1\" class=\"dataframe\">\n",
       "  <thead>\n",
       "    <tr style=\"text-align: right;\">\n",
       "      <th></th>\n",
       "      <th>Id</th>\n",
       "      <th>SepalLengthCm</th>\n",
       "      <th>SepalWidthCm</th>\n",
       "      <th>PetalLengthCm</th>\n",
       "      <th>PetalWidthCm</th>\n",
       "      <th>Species</th>\n",
       "    </tr>\n",
       "  </thead>\n",
       "  <tbody>\n",
       "    <tr>\n",
       "      <th>0</th>\n",
       "      <td>1</td>\n",
       "      <td>5.1</td>\n",
       "      <td>3.5</td>\n",
       "      <td>1.4</td>\n",
       "      <td>0.2</td>\n",
       "      <td>Iris-setosa</td>\n",
       "    </tr>\n",
       "    <tr>\n",
       "      <th>1</th>\n",
       "      <td>2</td>\n",
       "      <td>4.9</td>\n",
       "      <td>3.0</td>\n",
       "      <td>1.4</td>\n",
       "      <td>0.2</td>\n",
       "      <td>Iris-setosa</td>\n",
       "    </tr>\n",
       "    <tr>\n",
       "      <th>2</th>\n",
       "      <td>3</td>\n",
       "      <td>4.7</td>\n",
       "      <td>3.2</td>\n",
       "      <td>1.3</td>\n",
       "      <td>0.2</td>\n",
       "      <td>Iris-setosa</td>\n",
       "    </tr>\n",
       "    <tr>\n",
       "      <th>3</th>\n",
       "      <td>4</td>\n",
       "      <td>4.6</td>\n",
       "      <td>3.1</td>\n",
       "      <td>1.5</td>\n",
       "      <td>0.2</td>\n",
       "      <td>Iris-setosa</td>\n",
       "    </tr>\n",
       "    <tr>\n",
       "      <th>4</th>\n",
       "      <td>5</td>\n",
       "      <td>5.0</td>\n",
       "      <td>3.6</td>\n",
       "      <td>1.4</td>\n",
       "      <td>0.2</td>\n",
       "      <td>Iris-setosa</td>\n",
       "    </tr>\n",
       "  </tbody>\n",
       "</table>\n",
       "</div>"
      ],
      "text/plain": [
       "   Id  SepalLengthCm  SepalWidthCm  PetalLengthCm  PetalWidthCm      Species\n",
       "0   1            5.1           3.5            1.4           0.2  Iris-setosa\n",
       "1   2            4.9           3.0            1.4           0.2  Iris-setosa\n",
       "2   3            4.7           3.2            1.3           0.2  Iris-setosa\n",
       "3   4            4.6           3.1            1.5           0.2  Iris-setosa\n",
       "4   5            5.0           3.6            1.4           0.2  Iris-setosa"
      ]
     },
     "execution_count": 11,
     "metadata": {},
     "output_type": "execute_result"
    }
   ],
   "source": [
    "iris_df = pd.read_csv('Iris.csv')\n",
    "iris_df.head()"
   ]
  },
  {
   "cell_type": "code",
   "execution_count": 12,
   "id": "21e09cbd-5c51-4be9-a325-c266127a3a6f",
   "metadata": {},
   "outputs": [
    {
     "data": {
      "text/plain": [
       "Id               0\n",
       "SepalLengthCm    0\n",
       "SepalWidthCm     0\n",
       "PetalLengthCm    0\n",
       "PetalWidthCm     0\n",
       "Species          0\n",
       "dtype: int64"
      ]
     },
     "execution_count": 12,
     "metadata": {},
     "output_type": "execute_result"
    }
   ],
   "source": [
    "iris_df.isnull().sum()"
   ]
  },
  {
   "cell_type": "code",
   "execution_count": 13,
   "id": "2a02c43d-5a5c-4891-83f7-e0e65e002c9c",
   "metadata": {},
   "outputs": [],
   "source": [
    "# Filter Data\n",
    "setosa_data = iris_df[iris_df['Species'] == 'Iris-setosa']\n",
    "versicolor_data = iris_df[iris_df['Species'] == 'Iris-versicolor']\n",
    "virginica_data = iris_df[iris_df['Species'] == 'Iris-virginica']"
   ]
  },
  {
   "cell_type": "code",
   "execution_count": 14,
   "id": "2e508c27-9f39-4074-9d47-51a1928e98a4",
   "metadata": {},
   "outputs": [
    {
     "data": {
      "text/html": [
       "<div>\n",
       "<style scoped>\n",
       "    .dataframe tbody tr th:only-of-type {\n",
       "        vertical-align: middle;\n",
       "    }\n",
       "\n",
       "    .dataframe tbody tr th {\n",
       "        vertical-align: top;\n",
       "    }\n",
       "\n",
       "    .dataframe thead th {\n",
       "        text-align: right;\n",
       "    }\n",
       "</style>\n",
       "<table border=\"1\" class=\"dataframe\">\n",
       "  <thead>\n",
       "    <tr style=\"text-align: right;\">\n",
       "      <th></th>\n",
       "      <th>Id</th>\n",
       "      <th>SepalLengthCm</th>\n",
       "      <th>SepalWidthCm</th>\n",
       "      <th>PetalLengthCm</th>\n",
       "      <th>PetalWidthCm</th>\n",
       "      <th>Species</th>\n",
       "    </tr>\n",
       "  </thead>\n",
       "  <tbody>\n",
       "    <tr>\n",
       "      <th>100</th>\n",
       "      <td>101</td>\n",
       "      <td>6.3</td>\n",
       "      <td>3.3</td>\n",
       "      <td>6.0</td>\n",
       "      <td>2.5</td>\n",
       "      <td>Iris-virginica</td>\n",
       "    </tr>\n",
       "    <tr>\n",
       "      <th>101</th>\n",
       "      <td>102</td>\n",
       "      <td>5.8</td>\n",
       "      <td>2.7</td>\n",
       "      <td>5.1</td>\n",
       "      <td>1.9</td>\n",
       "      <td>Iris-virginica</td>\n",
       "    </tr>\n",
       "    <tr>\n",
       "      <th>102</th>\n",
       "      <td>103</td>\n",
       "      <td>7.1</td>\n",
       "      <td>3.0</td>\n",
       "      <td>5.9</td>\n",
       "      <td>2.1</td>\n",
       "      <td>Iris-virginica</td>\n",
       "    </tr>\n",
       "    <tr>\n",
       "      <th>103</th>\n",
       "      <td>104</td>\n",
       "      <td>6.3</td>\n",
       "      <td>2.9</td>\n",
       "      <td>5.6</td>\n",
       "      <td>1.8</td>\n",
       "      <td>Iris-virginica</td>\n",
       "    </tr>\n",
       "    <tr>\n",
       "      <th>104</th>\n",
       "      <td>105</td>\n",
       "      <td>6.5</td>\n",
       "      <td>3.0</td>\n",
       "      <td>5.8</td>\n",
       "      <td>2.2</td>\n",
       "      <td>Iris-virginica</td>\n",
       "    </tr>\n",
       "  </tbody>\n",
       "</table>\n",
       "</div>"
      ],
      "text/plain": [
       "      Id  SepalLengthCm  SepalWidthCm  PetalLengthCm  PetalWidthCm   \n",
       "100  101            6.3           3.3            6.0           2.5  \\\n",
       "101  102            5.8           2.7            5.1           1.9   \n",
       "102  103            7.1           3.0            5.9           2.1   \n",
       "103  104            6.3           2.9            5.6           1.8   \n",
       "104  105            6.5           3.0            5.8           2.2   \n",
       "\n",
       "            Species  \n",
       "100  Iris-virginica  \n",
       "101  Iris-virginica  \n",
       "102  Iris-virginica  \n",
       "103  Iris-virginica  \n",
       "104  Iris-virginica  "
      ]
     },
     "execution_count": 14,
     "metadata": {},
     "output_type": "execute_result"
    }
   ],
   "source": [
    "virginica_data.head()"
   ]
  },
  {
   "cell_type": "code",
   "execution_count": 15,
   "id": "bd6eadbd-4f7f-496f-aea8-2a7d6d24afc9",
   "metadata": {},
   "outputs": [
    {
     "data": {
      "text/html": [
       "<div>\n",
       "<style scoped>\n",
       "    .dataframe tbody tr th:only-of-type {\n",
       "        vertical-align: middle;\n",
       "    }\n",
       "\n",
       "    .dataframe tbody tr th {\n",
       "        vertical-align: top;\n",
       "    }\n",
       "\n",
       "    .dataframe thead th {\n",
       "        text-align: right;\n",
       "    }\n",
       "</style>\n",
       "<table border=\"1\" class=\"dataframe\">\n",
       "  <thead>\n",
       "    <tr style=\"text-align: right;\">\n",
       "      <th></th>\n",
       "      <th>Id</th>\n",
       "      <th>SepalLengthCm</th>\n",
       "      <th>SepalWidthCm</th>\n",
       "      <th>PetalLengthCm</th>\n",
       "      <th>PetalWidthCm</th>\n",
       "      <th>Species</th>\n",
       "    </tr>\n",
       "  </thead>\n",
       "  <tbody>\n",
       "    <tr>\n",
       "      <th>50</th>\n",
       "      <td>51</td>\n",
       "      <td>7.0</td>\n",
       "      <td>3.2</td>\n",
       "      <td>4.7</td>\n",
       "      <td>1.4</td>\n",
       "      <td>Iris-versicolor</td>\n",
       "    </tr>\n",
       "    <tr>\n",
       "      <th>51</th>\n",
       "      <td>52</td>\n",
       "      <td>6.4</td>\n",
       "      <td>3.2</td>\n",
       "      <td>4.5</td>\n",
       "      <td>1.5</td>\n",
       "      <td>Iris-versicolor</td>\n",
       "    </tr>\n",
       "    <tr>\n",
       "      <th>52</th>\n",
       "      <td>53</td>\n",
       "      <td>6.9</td>\n",
       "      <td>3.1</td>\n",
       "      <td>4.9</td>\n",
       "      <td>1.5</td>\n",
       "      <td>Iris-versicolor</td>\n",
       "    </tr>\n",
       "    <tr>\n",
       "      <th>53</th>\n",
       "      <td>54</td>\n",
       "      <td>5.5</td>\n",
       "      <td>2.3</td>\n",
       "      <td>4.0</td>\n",
       "      <td>1.3</td>\n",
       "      <td>Iris-versicolor</td>\n",
       "    </tr>\n",
       "    <tr>\n",
       "      <th>54</th>\n",
       "      <td>55</td>\n",
       "      <td>6.5</td>\n",
       "      <td>2.8</td>\n",
       "      <td>4.6</td>\n",
       "      <td>1.5</td>\n",
       "      <td>Iris-versicolor</td>\n",
       "    </tr>\n",
       "  </tbody>\n",
       "</table>\n",
       "</div>"
      ],
      "text/plain": [
       "    Id  SepalLengthCm  SepalWidthCm  PetalLengthCm  PetalWidthCm   \n",
       "50  51            7.0           3.2            4.7           1.4  \\\n",
       "51  52            6.4           3.2            4.5           1.5   \n",
       "52  53            6.9           3.1            4.9           1.5   \n",
       "53  54            5.5           2.3            4.0           1.3   \n",
       "54  55            6.5           2.8            4.6           1.5   \n",
       "\n",
       "            Species  \n",
       "50  Iris-versicolor  \n",
       "51  Iris-versicolor  \n",
       "52  Iris-versicolor  \n",
       "53  Iris-versicolor  \n",
       "54  Iris-versicolor  "
      ]
     },
     "execution_count": 15,
     "metadata": {},
     "output_type": "execute_result"
    }
   ],
   "source": [
    "versicolor_data.head()"
   ]
  },
  {
   "cell_type": "code",
   "execution_count": 16,
   "id": "d23c63e6-c55a-40e2-b73a-ffeae920def0",
   "metadata": {},
   "outputs": [
    {
     "data": {
      "text/html": [
       "<div>\n",
       "<style scoped>\n",
       "    .dataframe tbody tr th:only-of-type {\n",
       "        vertical-align: middle;\n",
       "    }\n",
       "\n",
       "    .dataframe tbody tr th {\n",
       "        vertical-align: top;\n",
       "    }\n",
       "\n",
       "    .dataframe thead th {\n",
       "        text-align: right;\n",
       "    }\n",
       "</style>\n",
       "<table border=\"1\" class=\"dataframe\">\n",
       "  <thead>\n",
       "    <tr style=\"text-align: right;\">\n",
       "      <th></th>\n",
       "      <th>Id</th>\n",
       "      <th>SepalLengthCm</th>\n",
       "      <th>SepalWidthCm</th>\n",
       "      <th>PetalLengthCm</th>\n",
       "      <th>PetalWidthCm</th>\n",
       "      <th>Species</th>\n",
       "    </tr>\n",
       "  </thead>\n",
       "  <tbody>\n",
       "    <tr>\n",
       "      <th>0</th>\n",
       "      <td>1</td>\n",
       "      <td>5.1</td>\n",
       "      <td>3.5</td>\n",
       "      <td>1.4</td>\n",
       "      <td>0.2</td>\n",
       "      <td>Iris-setosa</td>\n",
       "    </tr>\n",
       "    <tr>\n",
       "      <th>1</th>\n",
       "      <td>2</td>\n",
       "      <td>4.9</td>\n",
       "      <td>3.0</td>\n",
       "      <td>1.4</td>\n",
       "      <td>0.2</td>\n",
       "      <td>Iris-setosa</td>\n",
       "    </tr>\n",
       "    <tr>\n",
       "      <th>2</th>\n",
       "      <td>3</td>\n",
       "      <td>4.7</td>\n",
       "      <td>3.2</td>\n",
       "      <td>1.3</td>\n",
       "      <td>0.2</td>\n",
       "      <td>Iris-setosa</td>\n",
       "    </tr>\n",
       "    <tr>\n",
       "      <th>3</th>\n",
       "      <td>4</td>\n",
       "      <td>4.6</td>\n",
       "      <td>3.1</td>\n",
       "      <td>1.5</td>\n",
       "      <td>0.2</td>\n",
       "      <td>Iris-setosa</td>\n",
       "    </tr>\n",
       "    <tr>\n",
       "      <th>4</th>\n",
       "      <td>5</td>\n",
       "      <td>5.0</td>\n",
       "      <td>3.6</td>\n",
       "      <td>1.4</td>\n",
       "      <td>0.2</td>\n",
       "      <td>Iris-setosa</td>\n",
       "    </tr>\n",
       "  </tbody>\n",
       "</table>\n",
       "</div>"
      ],
      "text/plain": [
       "   Id  SepalLengthCm  SepalWidthCm  PetalLengthCm  PetalWidthCm      Species\n",
       "0   1            5.1           3.5            1.4           0.2  Iris-setosa\n",
       "1   2            4.9           3.0            1.4           0.2  Iris-setosa\n",
       "2   3            4.7           3.2            1.3           0.2  Iris-setosa\n",
       "3   4            4.6           3.1            1.5           0.2  Iris-setosa\n",
       "4   5            5.0           3.6            1.4           0.2  Iris-setosa"
      ]
     },
     "execution_count": 16,
     "metadata": {},
     "output_type": "execute_result"
    }
   ],
   "source": [
    "setosa_data.head()"
   ]
  },
  {
   "cell_type": "code",
   "execution_count": 17,
   "id": "69cedacb-05c8-4cde-ba8d-f301fca54fd5",
   "metadata": {},
   "outputs": [],
   "source": [
    "setosa__data= setosa_data.drop([\"Species\"],axis=1)"
   ]
  },
  {
   "cell_type": "code",
   "execution_count": 18,
   "id": "6cf1fe6e-5132-480e-8668-c17b3824ab17",
   "metadata": {},
   "outputs": [
    {
     "data": {
      "text/plain": [
       "Id               25.500\n",
       "SepalLengthCm     5.006\n",
       "SepalWidthCm      3.418\n",
       "PetalLengthCm     1.464\n",
       "PetalWidthCm      0.244\n",
       "dtype: float64"
      ]
     },
     "execution_count": 18,
     "metadata": {},
     "output_type": "execute_result"
    }
   ],
   "source": [
    "setosa__data.mean()"
   ]
  },
  {
   "cell_type": "code",
   "execution_count": 19,
   "id": "1a2a9b54-27dd-410e-ab0a-77ff11987a61",
   "metadata": {},
   "outputs": [
    {
     "data": {
      "text/plain": [
       "Id               25.5\n",
       "SepalLengthCm     5.0\n",
       "SepalWidthCm      3.4\n",
       "PetalLengthCm     1.5\n",
       "PetalWidthCm      0.2\n",
       "dtype: float64"
      ]
     },
     "execution_count": 19,
     "metadata": {},
     "output_type": "execute_result"
    }
   ],
   "source": [
    "setosa__data.median()"
   ]
  },
  {
   "cell_type": "code",
   "execution_count": 20,
   "id": "0cca5946-027e-4a8c-902b-42b71441c858",
   "metadata": {},
   "outputs": [
    {
     "data": {
      "text/plain": [
       "Id               208.250000\n",
       "SepalLengthCm      0.121764\n",
       "SepalWidthCm       0.142276\n",
       "PetalLengthCm      0.029504\n",
       "PetalWidthCm       0.011264\n",
       "dtype: float64"
      ]
     },
     "execution_count": 20,
     "metadata": {},
     "output_type": "execute_result"
    }
   ],
   "source": [
    "np.var(setosa__data)"
   ]
  },
  {
   "cell_type": "code",
   "execution_count": 21,
   "id": "ebad28d9-b569-4745-b93b-52dc0e2b789e",
   "metadata": {},
   "outputs": [
    {
     "data": {
      "text/plain": [
       "Id               14.430870\n",
       "SepalLengthCm     0.348947\n",
       "SepalWidthCm      0.377195\n",
       "PetalLengthCm     0.171767\n",
       "PetalWidthCm      0.106132\n",
       "dtype: float64"
      ]
     },
     "execution_count": 21,
     "metadata": {},
     "output_type": "execute_result"
    }
   ],
   "source": [
    "np.std(setosa__data)"
   ]
  },
  {
   "cell_type": "code",
   "execution_count": 22,
   "id": "2ba12d28-a5b1-4f62-94c0-048041a82a9c",
   "metadata": {},
   "outputs": [],
   "source": [
    "versicolor__data= versicolor_data.drop([\"Species\"],axis=1)"
   ]
  },
  {
   "cell_type": "code",
   "execution_count": 23,
   "id": "f2f49bb6-51d1-49a3-bf0f-e829e22f2fd7",
   "metadata": {},
   "outputs": [
    {
     "data": {
      "text/plain": [
       "Id               75.500\n",
       "SepalLengthCm     5.936\n",
       "SepalWidthCm      2.770\n",
       "PetalLengthCm     4.260\n",
       "PetalWidthCm      1.326\n",
       "dtype: float64"
      ]
     },
     "execution_count": 23,
     "metadata": {},
     "output_type": "execute_result"
    }
   ],
   "source": [
    "versicolor__data.mean()"
   ]
  },
  {
   "cell_type": "code",
   "execution_count": 24,
   "id": "f7d5c60d-be9e-49da-8fef-5ab412d55d7c",
   "metadata": {},
   "outputs": [
    {
     "data": {
      "text/plain": [
       "Id               75.50\n",
       "SepalLengthCm     5.90\n",
       "SepalWidthCm      2.80\n",
       "PetalLengthCm     4.35\n",
       "PetalWidthCm      1.30\n",
       "dtype: float64"
      ]
     },
     "execution_count": 24,
     "metadata": {},
     "output_type": "execute_result"
    }
   ],
   "source": [
    "versicolor__data.median()"
   ]
  },
  {
   "cell_type": "code",
   "execution_count": 25,
   "id": "f46e887d-e856-4680-8761-ef248009c4e6",
   "metadata": {},
   "outputs": [
    {
     "data": {
      "text/plain": [
       "Id               208.250000\n",
       "SepalLengthCm      0.261104\n",
       "SepalWidthCm       0.096500\n",
       "PetalLengthCm      0.216400\n",
       "PetalWidthCm       0.038324\n",
       "dtype: float64"
      ]
     },
     "execution_count": 25,
     "metadata": {},
     "output_type": "execute_result"
    }
   ],
   "source": [
    "np.var(versicolor__data)"
   ]
  },
  {
   "cell_type": "code",
   "execution_count": 26,
   "id": "22c555e5-b0d8-4147-8618-31f809a58e17",
   "metadata": {},
   "outputs": [
    {
     "data": {
      "text/plain": [
       "Id               14.430870\n",
       "SepalLengthCm     0.510983\n",
       "SepalWidthCm      0.310644\n",
       "PetalLengthCm     0.465188\n",
       "PetalWidthCm      0.195765\n",
       "dtype: float64"
      ]
     },
     "execution_count": 26,
     "metadata": {},
     "output_type": "execute_result"
    }
   ],
   "source": [
    "np.std(versicolor__data)"
   ]
  },
  {
   "cell_type": "code",
   "execution_count": 27,
   "id": "c4542f30-aead-4a43-bb9f-37681ec46a05",
   "metadata": {},
   "outputs": [],
   "source": [
    "virginica__data= virginica_data.drop([\"Species\"],axis=1)"
   ]
  },
  {
   "cell_type": "code",
   "execution_count": 28,
   "id": "84cbda8f-d796-419e-aa38-7f73b59078e6",
   "metadata": {},
   "outputs": [
    {
     "data": {
      "text/plain": [
       "Id               125.500\n",
       "SepalLengthCm      6.588\n",
       "SepalWidthCm       2.974\n",
       "PetalLengthCm      5.552\n",
       "PetalWidthCm       2.026\n",
       "dtype: float64"
      ]
     },
     "execution_count": 28,
     "metadata": {},
     "output_type": "execute_result"
    }
   ],
   "source": [
    "virginica__data.mean()"
   ]
  },
  {
   "cell_type": "code",
   "execution_count": 29,
   "id": "03d7dba0-b4b5-462c-ad36-ce717635f367",
   "metadata": {},
   "outputs": [
    {
     "data": {
      "text/plain": [
       "Id               125.50\n",
       "SepalLengthCm      6.50\n",
       "SepalWidthCm       3.00\n",
       "PetalLengthCm      5.55\n",
       "PetalWidthCm       2.00\n",
       "dtype: float64"
      ]
     },
     "execution_count": 29,
     "metadata": {},
     "output_type": "execute_result"
    }
   ],
   "source": [
    "virginica__data.median()"
   ]
  },
  {
   "cell_type": "code",
   "execution_count": 30,
   "id": "57c2cf58-6efe-49e9-ab08-cba235e4a949",
   "metadata": {},
   "outputs": [
    {
     "data": {
      "text/plain": [
       "Id               208.250000\n",
       "SepalLengthCm      0.396256\n",
       "SepalWidthCm       0.101924\n",
       "PetalLengthCm      0.298496\n",
       "PetalWidthCm       0.073924\n",
       "dtype: float64"
      ]
     },
     "execution_count": 30,
     "metadata": {},
     "output_type": "execute_result"
    }
   ],
   "source": [
    "np.var(virginica__data)"
   ]
  },
  {
   "cell_type": "code",
   "execution_count": 31,
   "id": "00576b99-3cac-44f2-afac-afc90cb61071",
   "metadata": {},
   "outputs": [
    {
     "data": {
      "text/plain": [
       "Id               14.430870\n",
       "SepalLengthCm     0.629489\n",
       "SepalWidthCm      0.319255\n",
       "PetalLengthCm     0.546348\n",
       "PetalWidthCm      0.271890\n",
       "dtype: float64"
      ]
     },
     "execution_count": 31,
     "metadata": {},
     "output_type": "execute_result"
    }
   ],
   "source": [
    "np.std(virginica__data)"
   ]
  },
  {
   "cell_type": "code",
   "execution_count": 32,
   "id": "70365379-a169-4fad-a35d-359872651695",
   "metadata": {},
   "outputs": [
    {
     "data": {
      "text/plain": [
       "33.0"
      ]
     },
     "execution_count": 32,
     "metadata": {},
     "output_type": "execute_result"
    }
   ],
   "source": [
    "from scipy.stats import percentileofscore\n",
    "percentileofscore(virginica_data['SepalLengthCm'], 6.3)"
   ]
  },
  {
   "cell_type": "code",
   "execution_count": 33,
   "id": "0647ea66-5807-417a-97d7-95d04e1d2457",
   "metadata": {},
   "outputs": [
    {
     "name": "stdout",
     "output_type": "stream",
     "text": [
      "Variance for Iris-setosa SepalWidthCm:\n",
      "0.1451795918367347\n"
     ]
    }
   ],
   "source": [
    "print(\"Variance for Iris-setosa SepalWidthCm:\")\n",
    "print(setosa_data['SepalWidthCm'].var())"
   ]
  },
  {
   "cell_type": "code",
   "execution_count": 34,
   "id": "1086d10f-316a-4e30-a0d9-f5a336cb07c9",
   "metadata": {},
   "outputs": [
    {
     "name": "stdout",
     "output_type": "stream",
     "text": [
      "Standard Deviation for versicolor_data PetalLengthCm:\n",
      "0.46991097723995795\n"
     ]
    }
   ],
   "source": [
    "print(\"Standard Deviation for versicolor_data PetalLengthCm:\")\n",
    "print(versicolor_data['PetalLengthCm'].std())"
   ]
  },
  {
   "cell_type": "code",
   "execution_count": 35,
   "id": "cb784497-3489-4e9d-925f-54045c0aa80e",
   "metadata": {},
   "outputs": [
    {
     "data": {
      "image/png": "[encoded data removed]",
      "text/plain": [
       "<Figure size 1000x800 with 2 Axes>"
      ]
     },
     "metadata": {},
     "output_type": "display_data"
    }
   ],
   "source": [
    "import matplotlib.pyplot as plt\n",
    "import seaborn as sns\n",
    "plt.figure(figsize=(10, 8))\n",
    "correlation_matrix = setosa__data.corr()\n",
    "sns.heatmap(correlation_matrix, annot=True, cmap=\"Pastel2\", linewidths=.5)\n",
    "plt.title(\"Correlation Matrix of Setosa Data\")\n",
    "plt.show()\n"
   ]
  },
  {
   "cell_type": "code",
   "execution_count": 36,
   "id": "78ae8608-d8c0-4dd2-8329-6fa12ab7fd41",
   "metadata": {},
   "outputs": [
    {
     "data": {
      "image/png": "[encoded data removed]",
      "text/plain": [
       "<Figure size 1000x800 with 2 Axes>"
      ]
     },
     "metadata": {},
     "output_type": "display_data"
    }
   ],
   "source": [
    "import matplotlib.pyplot as plt\n",
    "import seaborn as sns\n",
    "plt.figure(figsize=(10, 8))\n",
    "correlation_matrix = versicolor__data.corr()\n",
    "sns.heatmap(correlation_matrix, annot=True, cmap=\"Pastel2\", linewidths=.5)\n",
    "plt.title(\"Correlation Matrix of Setosa Data\")\n",
    "plt.show()"
   ]
  },
  {
   "cell_type": "code",
   "execution_count": 37,
   "id": "71619580-aaca-45c3-9203-19092fd2c933",
   "metadata": {
    "scrolled": true
   },
   "outputs": [
    {
     "data": {
      "image/png": "[encoded data removed]",
      "text/plain": [
       "<Figure size 1000x800 with 2 Axes>"
      ]
     },
     "metadata": {},
     "output_type": "display_data"
    }
   ],
   "source": [
    "import matplotlib.pyplot as plt\n",
    "import seaborn as sns\n",
    "plt.figure(figsize=(10, 8))\n",
    "correlation_matrix = virginica__data.corr()\n",
    "sns.heatmap(correlation_matrix, annot=True, cmap=\"Pastel2\", linewidths=.5)\n",
    "plt.title(\"Correlation Matrix of Setosa Data\")\n",
    "plt.show()"
   ]
  }
 ],
 "metadata": {
  "kernelspec": {
   "display_name": "Python 3 (ipykernel)",
   "language": "python",
   "name": "python3"
  },
  "language_info": {
   "codemirror_mode": {
    "name": "ipython",
    "version": 3
   },
   "file_extension": ".py",
   "mimetype": "text/x-python",
   "name": "python",
   "nbconvert_exporter": "python",
   "pygments_lexer": "ipython3",
   "version": "3.11.3"
  }
 },
 "nbformat": 4,
 "nbformat_minor": 5
}
