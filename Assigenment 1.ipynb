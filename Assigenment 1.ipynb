{
 "cells": [
  {
   "cell_type": "code",
   "execution_count": 20,
   "id": "648f55f5-b6b5-42a7-85bc-3fa199947766",
   "metadata": {},
   "outputs": [],
   "source": [
    "import pandas as pd\n",
    "import numpy as np\n",
    "df= pd.read_csv(\"dirtydata.csv\") "
   ]
  },
  {
   "cell_type": "code",
   "execution_count": 2,
   "id": "6f7432cb-918c-428e-9f63-ffc3005c81c7",
   "metadata": {},
   "outputs": [
    {
     "data": {
      "text/plain": [
       "160"
      ]
     },
     "execution_count": 2,
     "metadata": {},
     "output_type": "execute_result"
    }
   ],
   "source": [
    "df.size"
   ]
  },
  {
   "cell_type": "code",
   "execution_count": 3,
   "id": "e68cf0d3-0ae8-46a7-be84-0e53f70e4964",
   "metadata": {},
   "outputs": [
    {
     "data": {
      "text/html": [
       "<div>\n",
       "<style scoped>\n",
       "    .dataframe tbody tr th:only-of-type {\n",
       "        vertical-align: middle;\n",
       "    }\n",
       "\n",
       "    .dataframe tbody tr th {\n",
       "        vertical-align: top;\n",
       "    }\n",
       "\n",
       "    .dataframe thead th {\n",
       "        text-align: right;\n",
       "    }\n",
       "</style>\n",
       "<table border=\"1\" class=\"dataframe\">\n",
       "  <thead>\n",
       "    <tr style=\"text-align: right;\">\n",
       "      <th></th>\n",
       "      <th>Duration</th>\n",
       "      <th>Date</th>\n",
       "      <th>Pulse</th>\n",
       "      <th>Maxpulse</th>\n",
       "      <th>Calories</th>\n",
       "    </tr>\n",
       "  </thead>\n",
       "  <tbody>\n",
       "    <tr>\n",
       "      <th>0</th>\n",
       "      <td>60</td>\n",
       "      <td>2020/12/01'</td>\n",
       "      <td>110</td>\n",
       "      <td>130</td>\n",
       "      <td>409.1</td>\n",
       "    </tr>\n",
       "    <tr>\n",
       "      <th>1</th>\n",
       "      <td>60</td>\n",
       "      <td>2020/12/02'</td>\n",
       "      <td>117</td>\n",
       "      <td>145</td>\n",
       "      <td>479.0</td>\n",
       "    </tr>\n",
       "    <tr>\n",
       "      <th>2</th>\n",
       "      <td>60</td>\n",
       "      <td>2020/12/03'</td>\n",
       "      <td>103</td>\n",
       "      <td>135</td>\n",
       "      <td>340.0</td>\n",
       "    </tr>\n",
       "    <tr>\n",
       "      <th>3</th>\n",
       "      <td>45</td>\n",
       "      <td>2020/12/04'</td>\n",
       "      <td>109</td>\n",
       "      <td>175</td>\n",
       "      <td>282.4</td>\n",
       "    </tr>\n",
       "    <tr>\n",
       "      <th>4</th>\n",
       "      <td>45</td>\n",
       "      <td>2020/12/05'</td>\n",
       "      <td>117</td>\n",
       "      <td>148</td>\n",
       "      <td>406.0</td>\n",
       "    </tr>\n",
       "  </tbody>\n",
       "</table>\n",
       "</div>"
      ],
      "text/plain": [
       "   Duration         Date  Pulse  Maxpulse  Calories\n",
       "0        60  2020/12/01'    110       130     409.1\n",
       "1        60  2020/12/02'    117       145     479.0\n",
       "2        60  2020/12/03'    103       135     340.0\n",
       "3        45  2020/12/04'    109       175     282.4\n",
       "4        45  2020/12/05'    117       148     406.0"
      ]
     },
     "execution_count": 3,
     "metadata": {},
     "output_type": "execute_result"
    }
   ],
   "source": [
    "df.head()"
   ]
  },
  {
   "cell_type": "code",
   "execution_count": 4,
   "id": "acdda174-c980-4b7e-93e0-b8728f7f8987",
   "metadata": {},
   "outputs": [
    {
     "data": {
      "text/plain": [
       "(32, 5)"
      ]
     },
     "execution_count": 4,
     "metadata": {},
     "output_type": "execute_result"
    }
   ],
   "source": [
    "df.shape"
   ]
  },
  {
   "cell_type": "code",
   "execution_count": 5,
   "id": "d68e5cb0-1a99-4ae2-8de1-e22a24545abd",
   "metadata": {},
   "outputs": [
    {
     "data": {
      "text/plain": [
       "<bound method NDFrame.describe of     Duration         Date  Pulse  Maxpulse  Calories\n",
       "0         60  2020/12/01'    110       130     409.1\n",
       "1         60  2020/12/02'    117       145     479.0\n",
       "2         60  2020/12/03'    103       135     340.0\n",
       "3         45  2020/12/04'    109       175     282.4\n",
       "4         45  2020/12/05'    117       148     406.0\n",
       "5         60  2020/12/06'    102       127    -300.0\n",
       "6         60  2020/12/07'    110       136     374.0\n",
       "7        450  2020/12/08'    104       134     253.3\n",
       "8         30  2020/12/09'    109       133     195.1\n",
       "9         60  2020/12/10'     98       124     269.0\n",
       "10        60  2020/12/11'    103       147     329.3\n",
       "11        60  2020/12/12'    100       120     250.7\n",
       "12        60  2020/12/12'    100       120     250.7\n",
       "13        60  2020/12/13'    106       128     345.3\n",
       "14        60  2020/12/14'    104       132     379.3\n",
       "15        60  2020/12/15'     98       123     275.0\n",
       "16        60  2020/12/16'     98       120     215.2\n",
       "17        60  2020/12/17'    100       120     300.0\n",
       "18        45  2020/12/18'     90       112       NaN\n",
       "19        60  2020/12/19'    103       123     323.0\n",
       "20        45  2020/12/20'     97       125     243.0\n",
       "21        60  2020/12/21'    108       131     364.2\n",
       "22        45          NaN    100       119     282.0\n",
       "23        60  2020/12/23'    130       101     300.0\n",
       "24        45  2020/12/24'    105       132     246.0\n",
       "25        60  2020/12/25'    102       126     334.5\n",
       "26        60     20201226    100       120     250.0\n",
       "27        60  2020/12/27'     92       118     241.0\n",
       "28        60  2020/12/28'    103       132       NaN\n",
       "29        60  2020/12/29'    100       132    -280.0\n",
       "30        60  2020/12/30'    102       129     380.3\n",
       "31        60  2020/12/31'     92       115     243.0>"
      ]
     },
     "execution_count": 5,
     "metadata": {},
     "output_type": "execute_result"
    }
   ],
   "source": [
    "df.describe"
   ]
  },
  {
   "cell_type": "code",
   "execution_count": 7,
   "id": "008c36f9-b1ee-4b24-af7a-325970180204",
   "metadata": {},
   "outputs": [
    {
     "data": {
      "text/plain": [
       "Duration      int64\n",
       "Date         object\n",
       "Pulse         int64\n",
       "Maxpulse      int64\n",
       "Calories    float64\n",
       "dtype: object"
      ]
     },
     "execution_count": 7,
     "metadata": {},
     "output_type": "execute_result"
    }
   ],
   "source": [
    "df.dtypes"
   ]
  },
  {
   "cell_type": "code",
   "execution_count": 8,
   "id": "01ee1a69-91a8-4a33-bf2d-6b8f7e2bd0a1",
   "metadata": {},
   "outputs": [
    {
     "data": {
      "text/plain": [
       "<bound method DataFrame.isnull of     Duration         Date  Pulse  Maxpulse  Calories\n",
       "0         60  2020/12/01'    110       130     409.1\n",
       "1         60  2020/12/02'    117       145     479.0\n",
       "2         60  2020/12/03'    103       135     340.0\n",
       "3         45  2020/12/04'    109       175     282.4\n",
       "4         45  2020/12/05'    117       148     406.0\n",
       "5         60  2020/12/06'    102       127    -300.0\n",
       "6         60  2020/12/07'    110       136     374.0\n",
       "7        450  2020/12/08'    104       134     253.3\n",
       "8         30  2020/12/09'    109       133     195.1\n",
       "9         60  2020/12/10'     98       124     269.0\n",
       "10        60  2020/12/11'    103       147     329.3\n",
       "11        60  2020/12/12'    100       120     250.7\n",
       "12        60  2020/12/12'    100       120     250.7\n",
       "13        60  2020/12/13'    106       128     345.3\n",
       "14        60  2020/12/14'    104       132     379.3\n",
       "15        60  2020/12/15'     98       123     275.0\n",
       "16        60  2020/12/16'     98       120     215.2\n",
       "17        60  2020/12/17'    100       120     300.0\n",
       "18        45  2020/12/18'     90       112       NaN\n",
       "19        60  2020/12/19'    103       123     323.0\n",
       "20        45  2020/12/20'     97       125     243.0\n",
       "21        60  2020/12/21'    108       131     364.2\n",
       "22        45          NaN    100       119     282.0\n",
       "23        60  2020/12/23'    130       101     300.0\n",
       "24        45  2020/12/24'    105       132     246.0\n",
       "25        60  2020/12/25'    102       126     334.5\n",
       "26        60     20201226    100       120     250.0\n",
       "27        60  2020/12/27'     92       118     241.0\n",
       "28        60  2020/12/28'    103       132       NaN\n",
       "29        60  2020/12/29'    100       132    -280.0\n",
       "30        60  2020/12/30'    102       129     380.3\n",
       "31        60  2020/12/31'     92       115     243.0>"
      ]
     },
     "execution_count": 8,
     "metadata": {},
     "output_type": "execute_result"
    }
   ],
   "source": [
    "df.isnull"
   ]
  },
  {
   "cell_type": "code",
   "execution_count": 9,
   "id": "7750c247-bea5-4c05-b45e-59b0cb949152",
   "metadata": {},
   "outputs": [
    {
     "data": {
      "text/plain": [
       "<bound method DataFrame.dropna of     Duration         Date  Pulse  Maxpulse  Calories\n",
       "0         60  2020/12/01'    110       130     409.1\n",
       "1         60  2020/12/02'    117       145     479.0\n",
       "2         60  2020/12/03'    103       135     340.0\n",
       "3         45  2020/12/04'    109       175     282.4\n",
       "4         45  2020/12/05'    117       148     406.0\n",
       "5         60  2020/12/06'    102       127    -300.0\n",
       "6         60  2020/12/07'    110       136     374.0\n",
       "7        450  2020/12/08'    104       134     253.3\n",
       "8         30  2020/12/09'    109       133     195.1\n",
       "9         60  2020/12/10'     98       124     269.0\n",
       "10        60  2020/12/11'    103       147     329.3\n",
       "11        60  2020/12/12'    100       120     250.7\n",
       "12        60  2020/12/12'    100       120     250.7\n",
       "13        60  2020/12/13'    106       128     345.3\n",
       "14        60  2020/12/14'    104       132     379.3\n",
       "15        60  2020/12/15'     98       123     275.0\n",
       "16        60  2020/12/16'     98       120     215.2\n",
       "17        60  2020/12/17'    100       120     300.0\n",
       "18        45  2020/12/18'     90       112       NaN\n",
       "19        60  2020/12/19'    103       123     323.0\n",
       "20        45  2020/12/20'     97       125     243.0\n",
       "21        60  2020/12/21'    108       131     364.2\n",
       "22        45          NaN    100       119     282.0\n",
       "23        60  2020/12/23'    130       101     300.0\n",
       "24        45  2020/12/24'    105       132     246.0\n",
       "25        60  2020/12/25'    102       126     334.5\n",
       "26        60     20201226    100       120     250.0\n",
       "27        60  2020/12/27'     92       118     241.0\n",
       "28        60  2020/12/28'    103       132       NaN\n",
       "29        60  2020/12/29'    100       132    -280.0\n",
       "30        60  2020/12/30'    102       129     380.3\n",
       "31        60  2020/12/31'     92       115     243.0>"
      ]
     },
     "execution_count": 9,
     "metadata": {},
     "output_type": "execute_result"
    }
   ],
   "source": [
    "df.dropna"
   ]
  },
  {
   "cell_type": "code",
   "execution_count": 10,
   "id": "ec02b71a-f91d-4e01-b5bf-aff8600a1f83",
   "metadata": {},
   "outputs": [
    {
     "data": {
      "text/plain": [
       "<pandas.core.indexing._LocIndexer at 0x1f6bd580e10>"
      ]
     },
     "execution_count": 10,
     "metadata": {},
     "output_type": "execute_result"
    }
   ],
   "source": [
    "df.loc"
   ]
  },
  {
   "cell_type": "code",
   "execution_count": 11,
   "id": "6ccfa7a7-b7cd-4bd9-b19b-abc11a9a39c8",
   "metadata": {},
   "outputs": [
    {
     "data": {
      "text/plain": [
       "0     240\n",
       "1     262\n",
       "2     238\n",
       "3     284\n",
       "4     265\n",
       "5     229\n",
       "6     246\n",
       "7     238\n",
       "8     242\n",
       "9     222\n",
       "10    250\n",
       "11    220\n",
       "12    220\n",
       "13    234\n",
       "14    236\n",
       "15    221\n",
       "16    218\n",
       "17    220\n",
       "18    202\n",
       "19    226\n",
       "20    222\n",
       "21    239\n",
       "22    219\n",
       "23    231\n",
       "24    237\n",
       "25    228\n",
       "26    220\n",
       "27    210\n",
       "28    235\n",
       "29    232\n",
       "30    231\n",
       "31    207\n",
       "dtype: int64"
      ]
     },
     "execution_count": 11,
     "metadata": {},
     "output_type": "execute_result"
    }
   ],
   "source": [
    "df.Pulse.add(df.Maxpulse)"
   ]
  },
  {
   "cell_type": "code",
   "execution_count": 16,
   "id": "1d62653a-deff-42bf-adf9-8e1b978c9d18",
   "metadata": {},
   "outputs": [
    {
     "name": "stdout",
     "output_type": "stream",
     "text": [
      "3312\n",
      "4112\n"
     ]
    }
   ],
   "source": [
    "df.Calories =df.Calories.abs()\n",
    "print(format(df.Pulse.sum()))\n",
    "print(format(df.Maxpulse.sum()))"
   ]
  },
  {
   "cell_type": "code",
   "execution_count": 21,
   "id": "8abfd7eb-e2a2-4031-b9e2-ecb14c9c1f63",
   "metadata": {},
   "outputs": [
    {
     "data": {
      "text/plain": [
       "Calories\n",
       "False    32\n",
       "Name: count, dtype: int64"
      ]
     },
     "execution_count": 21,
     "metadata": {},
     "output_type": "execute_result"
    }
   ],
   "source": [
    "df['Calories'] =np.where((df['Calories']<0),-(df['Calories']),df['Calories'])\n",
    "(df['Calories']<0).value_counts()"
   ]
  },
  {
   "cell_type": "code",
   "execution_count": 22,
   "id": "221cd954-be5b-4aa5-8b8e-7ea5e2ecc108",
   "metadata": {},
   "outputs": [
    {
     "data": {
      "text/html": [
       "<div>\n",
       "<style scoped>\n",
       "    .dataframe tbody tr th:only-of-type {\n",
       "        vertical-align: middle;\n",
       "    }\n",
       "\n",
       "    .dataframe tbody tr th {\n",
       "        vertical-align: top;\n",
       "    }\n",
       "\n",
       "    .dataframe thead th {\n",
       "        text-align: right;\n",
       "    }\n",
       "</style>\n",
       "<table border=\"1\" class=\"dataframe\">\n",
       "  <thead>\n",
       "    <tr style=\"text-align: right;\">\n",
       "      <th></th>\n",
       "      <th>Duration</th>\n",
       "      <th>Pulse</th>\n",
       "      <th>Maxpulse</th>\n",
       "      <th>Calories</th>\n",
       "    </tr>\n",
       "  </thead>\n",
       "  <tbody>\n",
       "    <tr>\n",
       "      <th>count</th>\n",
       "      <td>32.000000</td>\n",
       "      <td>32.000000</td>\n",
       "      <td>32.000000</td>\n",
       "      <td>30.000000</td>\n",
       "    </tr>\n",
       "    <tr>\n",
       "      <th>mean</th>\n",
       "      <td>68.437500</td>\n",
       "      <td>103.500000</td>\n",
       "      <td>128.500000</td>\n",
       "      <td>304.680000</td>\n",
       "    </tr>\n",
       "    <tr>\n",
       "      <th>std</th>\n",
       "      <td>70.039591</td>\n",
       "      <td>7.832933</td>\n",
       "      <td>12.998759</td>\n",
       "      <td>66.003779</td>\n",
       "    </tr>\n",
       "    <tr>\n",
       "      <th>min</th>\n",
       "      <td>30.000000</td>\n",
       "      <td>90.000000</td>\n",
       "      <td>101.000000</td>\n",
       "      <td>195.100000</td>\n",
       "    </tr>\n",
       "    <tr>\n",
       "      <th>25%</th>\n",
       "      <td>60.000000</td>\n",
       "      <td>100.000000</td>\n",
       "      <td>120.000000</td>\n",
       "      <td>250.700000</td>\n",
       "    </tr>\n",
       "    <tr>\n",
       "      <th>50%</th>\n",
       "      <td>60.000000</td>\n",
       "      <td>102.500000</td>\n",
       "      <td>127.500000</td>\n",
       "      <td>291.200000</td>\n",
       "    </tr>\n",
       "    <tr>\n",
       "      <th>75%</th>\n",
       "      <td>60.000000</td>\n",
       "      <td>106.500000</td>\n",
       "      <td>132.250000</td>\n",
       "      <td>343.975000</td>\n",
       "    </tr>\n",
       "    <tr>\n",
       "      <th>max</th>\n",
       "      <td>450.000000</td>\n",
       "      <td>130.000000</td>\n",
       "      <td>175.000000</td>\n",
       "      <td>479.000000</td>\n",
       "    </tr>\n",
       "  </tbody>\n",
       "</table>\n",
       "</div>"
      ],
      "text/plain": [
       "         Duration       Pulse    Maxpulse    Calories\n",
       "count   32.000000   32.000000   32.000000   30.000000\n",
       "mean    68.437500  103.500000  128.500000  304.680000\n",
       "std     70.039591    7.832933   12.998759   66.003779\n",
       "min     30.000000   90.000000  101.000000  195.100000\n",
       "25%     60.000000  100.000000  120.000000  250.700000\n",
       "50%     60.000000  102.500000  127.500000  291.200000\n",
       "75%     60.000000  106.500000  132.250000  343.975000\n",
       "max    450.000000  130.000000  175.000000  479.000000"
      ]
     },
     "execution_count": 22,
     "metadata": {},
     "output_type": "execute_result"
    }
   ],
   "source": [
    "df.describe()"
   ]
  }
 ],
 "metadata": {
  "kernelspec": {
   "display_name": "Python 3 (ipykernel)",
   "language": "python",
   "name": "python3"
  },
  "language_info": {
   "codemirror_mode": {
    "name": "ipython",
    "version": 3
   },
   "file_extension": ".py",
   "mimetype": "text/x-python",
   "name": "python",
   "nbconvert_exporter": "python",
   "pygments_lexer": "ipython3",
   "version": "3.11.3"
  }
 },
 "nbformat": 4,
 "nbformat_minor": 5
}
